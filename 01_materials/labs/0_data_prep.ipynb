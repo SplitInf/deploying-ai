{
 "cells": [
  {
   "cell_type": "markdown",
   "id": "1e8502c4",
   "metadata": {},
   "source": [
    "# Data Preparation\n",
    "\n",
    "Data found in the data set [18,393 Pitchfork articles on Kaggle.com](https://www.kaggle.com/datasets/nolanbconaway/pitchfork-data) can be converted to JSON line files using the code below.\n",
    "\n",
    "Note that it requires the library `sqlite3` which is not included in the current package dependency definitions. You will need to install this library in order to run this code."
   ]
  },
  {
   "cell_type": "code",
   "execution_count": 8,
   "id": "c55228de",
   "metadata": {},
   "outputs": [],
   "source": [
    "import sqlite3\n",
    "import json\n",
    "import os\n",
    "\n",
    "documents_path = '../../05_src/documents/'\n",
    "sqlite_file = os.path.join(documents_path, 'database.sqlite')\n"
   ]
  },
  {
   "cell_type": "code",
   "execution_count": 9,
   "id": "efb7cfed",
   "metadata": {},
   "outputs": [],
   "source": [
    "def sanitize_string(s):\n",
    "    if isinstance(s, str):\n",
    "        s = s.encode('utf-8', errors='ignore').decode('utf-8', errors='ignore')\n",
    "        s = s.encode('latin1', errors='ignore').decode('utf-8', errors='ignore')\n",
    "        s = s.replace('\\u0720', ' ')\n",
    "        s = s.replace(\"\\n\", \" \")\n",
    "    return s"
   ]
  },
  {
   "cell_type": "code",
   "execution_count": 10,
   "id": "66b909f9",
   "metadata": {},
   "outputs": [],
   "source": [
    "def get_data_from_sqlite(db_path, table):\n",
    "    with sqlite3.connect(db_path) as conn:\n",
    "        cursor = conn.cursor()\n",
    "        cursor.execute(f\"SELECT * FROM {table}\")\n",
    "        rows = cursor.fetchall()\n",
    "        columns = [description[0] for description in cursor.description]\n",
    "        data = [dict(zip(columns, row)) for row in rows]\n",
    "        data = [ {k: sanitize_string(v) for k, v in record.items()} for record in data ]\n",
    "    return data"
   ]
  },
  {
   "cell_type": "code",
   "execution_count": 4,
   "id": "ec899cfc",
   "metadata": {},
   "outputs": [],
   "source": [
    "def create_jsonl_from_table(db_path, table):\n",
    "    data = get_data_from_sqlite(db_path, table)\n",
    "    output_file = os.path.join(documents_path, f'pitchfork_{table}.jsonl') \n",
    "    with open(output_file, 'w') as f:\n",
    "        for record in data:    \n",
    "            json_line = json.dumps(record)\n",
    "            f.write(json_line + '\\n')"
   ]
  },
  {
   "cell_type": "code",
   "execution_count": 7,
   "id": "0d86e6d2",
   "metadata": {},
   "outputs": [
    {
     "name": "stdout",
     "output_type": "stream",
     "text": [
      "../../05_src/documents/database.sqlite\n"
     ]
    }
   ],
   "source": [
    "print(sqlite_file)"
   ]
  },
  {
   "cell_type": "code",
   "execution_count": 11,
   "id": "e1e8e2d1",
   "metadata": {},
   "outputs": [],
   "source": [
    "table_list = ['artists', 'content', 'genres', 'labels', 'reviews', 'years']\n",
    "\n",
    "for table in table_list:\n",
    "    create_jsonl_from_table(sqlite_file, table)"
   ]
  }
 ],
 "metadata": {
  "kernelspec": {
   "display_name": "deploying-ai-env",
   "language": "python",
   "name": "python3"
  },
  "language_info": {
   "codemirror_mode": {
    "name": "ipython",
    "version": 3
   },
   "file_extension": ".py",
   "mimetype": "text/x-python",
   "name": "python",
   "nbconvert_exporter": "python",
   "pygments_lexer": "ipython3",
   "version": "3.12.7"
  }
 },
 "nbformat": 4,
 "nbformat_minor": 5
}
